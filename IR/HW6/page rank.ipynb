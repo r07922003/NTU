{
 "cells": [
  {
   "cell_type": "code",
   "execution_count": 9,
   "metadata": {},
   "outputs": [
    {
     "name": "stdout",
     "output_type": "stream",
     "text": [
      "[[0.18092105 0.18092105 0.18092105]\n",
      " [0.41447368 0.41447368 0.41447368]\n",
      " [0.40460526 0.40460526 0.40460526]]\n"
     ]
    }
   ],
   "source": [
    "import numpy as np\n",
    "#state = 1,2,3\n",
    "\n",
    "transition_matrix = np.array([[0.1,0.1 ,0.3],\n",
    "                              [0.6,0.25,0.5],\n",
    "                              [0.3,0.65,0.2]])\n",
    "for i in range(10):\n",
    "    new_matrix = np.dot(transition_matrix,transition_matrix)\n",
    "    transition_matrix = new_matrix\n",
    "print(transition_matrix)"
   ]
  }
 ],
 "metadata": {
  "kernelspec": {
   "display_name": "Python 3",
   "language": "python",
   "name": "python3"
  },
  "language_info": {
   "codemirror_mode": {
    "name": "ipython",
    "version": 3
   },
   "file_extension": ".py",
   "mimetype": "text/x-python",
   "name": "python",
   "nbconvert_exporter": "python",
   "pygments_lexer": "ipython3",
   "version": "3.6.5"
  }
 },
 "nbformat": 4,
 "nbformat_minor": 2
}
