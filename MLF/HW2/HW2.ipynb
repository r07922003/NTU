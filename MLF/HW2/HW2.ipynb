{
 "cells": [
  {
   "cell_type": "code",
   "execution_count": 1,
   "metadata": {},
   "outputs": [
    {
     "name": "stdout",
     "output_type": "stream",
     "text": [
      "0.08524000000000011\n",
      "0.2590293493857197\n"
     ]
    },
    {
     "data": {
      "text/plain": [
       "<Figure size 640x480 with 1 Axes>"
      ]
     },
     "metadata": {},
     "output_type": "display_data"
    }
   ],
   "source": [
    "import numpy as np\n",
    "import matplotlib.pyplot as plt\n",
    "\n",
    "def sign(x):\n",
    "    data = []\n",
    "    for i in x:\n",
    "        if i>=0:\n",
    "            data.append(1)\n",
    "        else:\n",
    "            data.append(-1)\n",
    "    return data\n",
    "\n",
    "def s_head(x,noise):\n",
    "    temp=sign(np.random.uniform(low = 0.0,high = 1.0,size = 20)-noise) #隨機生成[0,1]之間的序列扣掉noise%數實現noise data\n",
    "    array = sign(x)\n",
    "    return np.array(temp)*np.array(array)\n",
    "\n",
    "def get_seeda(x): #因為要算E_out所以需要seeda正確的值\n",
    "    data=[]\n",
    "    data_size = len(x)\n",
    "    x = np.sort(x)\n",
    "    for i in range(data_size-1):\n",
    "        data.append( (x[i]+x[i+1])/2 )\n",
    "    data.append(1.0)\n",
    "    return data\n",
    "\n",
    "def h(s,x,seeda,true_noise_y):\n",
    "    error = []\n",
    "    num = 0\n",
    "    for i in range(len(seeda)):\n",
    "        count = 0\n",
    "        temp = s*np.array(sign(x-seeda[i])) \n",
    "        #計算 temp 跟 true_noise_y 的error\n",
    "        for j in (temp+true_noise_y):\n",
    "            if j==0:\n",
    "                count += 1\n",
    "            #print(temp)\n",
    "            #print(true_noise_y)\n",
    "            #print(temp + true_noise_y)\n",
    "        error.append(count/40)\n",
    "    for i in range(len(error)):\n",
    "        if error[i] == min(error):\n",
    "            num = i\n",
    "            break\n",
    "    return (min(error),seeda[num])\n",
    "\n",
    "\n",
    "iteration = 5000\n",
    "sub = []\n",
    "ave_ein = 0\n",
    "ave_eout = 0\n",
    "for i in range(iteration):\n",
    "    #hypothes = s * sign(x-seeda)   \n",
    "    x = np.array( np.random.uniform(low = -1.0,high = 1.0,size = 20) ) #產生x的data\n",
    "    true_noise_y = np.array(s_head(x,0.2)) #產生true_noise_y的data\n",
    "    seeda = get_seeda(x) #依照x的資料去生成data中間數的間隔點\n",
    "    e_in = np.zeros((2,2))\n",
    "    e_in[0][0],e_in[0][1] = h(1,x,seeda,true_noise_y) #s = 1\n",
    "    e_in[1][0],e_in[1][1] = h(-1,x,seeda,true_noise_y) #s = -1\n",
    "\n",
    "    if e_in[0][0] < e_in[1][0]:\n",
    "        s = 1\n",
    "        E_in = e_in[0][0] #get E_in\n",
    "        best_seeda = e_in[0][1]\n",
    "    else:\n",
    "        s = -1\n",
    "        E_in = e_in[1][0] #get E_in\n",
    "        best_seeda = e_in[1][1]\n",
    "    E_out = 0.5 + 0.3*s*(np.abs(best_seeda)-1) #根據第六題算出來的E_out\n",
    "    ave_ein += E_in\n",
    "    ave_eout += E_out\n",
    "    sub.append(E_in-E_out)\n",
    "print(ave_ein/iteration)\n",
    "print(ave_eout/iteration)\n",
    "plt.hist(sub,bins=30,facecolor='red', alpha=0.5)\n",
    "plt.xlabel('E_in - E_out')\n",
    "plt.ylabel('Count')\n",
    "plt.title('Problem 7')\n",
    "plt.savefig('E_in-E_out')\n",
    "plt.show()"
   ]
  }
 ],
 "metadata": {
  "kernelspec": {
   "display_name": "Python 3",
   "language": "python",
   "name": "python3"
  },
  "language_info": {
   "codemirror_mode": {
    "name": "ipython",
    "version": 3
   },
   "file_extension": ".py",
   "mimetype": "text/x-python",
   "name": "python",
   "nbconvert_exporter": "python",
   "pygments_lexer": "ipython3",
   "version": "3.6.5"
  }
 },
 "nbformat": 4,
 "nbformat_minor": 2
}
