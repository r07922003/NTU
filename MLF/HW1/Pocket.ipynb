{
 "cells": [
  {
   "cell_type": "code",
   "execution_count": 78,
   "metadata": {
    "scrolled": true
   },
   "outputs": [
    {
     "name": "stdout",
     "output_type": "stream",
     "text": [
      "0.142\n"
     ]
    }
   ],
   "source": [
    "import numpy as np\n",
    "import os\n",
    "import random\n",
    "import matplotlib.pyplot as plt\n",
    "\n",
    "def sign(s):\n",
    "    if s > 0:\n",
    "        return 1\n",
    "    else:\n",
    "        return -1\n",
    "\n",
    "def shuffle(X,Y,seed):\n",
    "    #依造種子隨機打亂資料順序\n",
    "    randomize = np.arange(len(X))\n",
    "    np.random.seed(seed)\n",
    "    np.random.shuffle(randomize)\n",
    "    return (X[randomize], Y[randomize])\n",
    "\n",
    "def testerror(k,X,Y):\n",
    "    count=0\n",
    "    for t in range(len(X)):\n",
    "        s=sign(k.dot(X[t]))\n",
    "        if s != int(Y[t]):\n",
    "                count+=1\n",
    "    return count/len(X)\n",
    "        \n",
    "def Pocket(x_train,y_train):\n",
    "    update = 0\n",
    "    w=np.zeros(5)\n",
    "    best=np.zeros(5)\n",
    "    while(1):\n",
    "        t=np.random.randint(0,len(x_train)-1)\n",
    "        #x_train,y_train = shuffle(x_train,y_train,seed)\n",
    "        s=sign(w.dot(x_train[t]))\n",
    "        if s != int(y_train[t]):\n",
    "            w = w + int(y_train[t])*x_train[t]\n",
    "            update += 1\n",
    "            if testerror(w,x_train,y_train) < testerror(best,x_train,y_train):\n",
    "                best = w\n",
    "        if update==50:\n",
    "            break\n",
    "    return best\n",
    "'''Data 處理'''\n",
    "data = np.loadtxt(os.path.join('Data', 'hw1_18_train.txt'))\n",
    "test = np.loadtxt(os.path.join('Data', 'hw1_18_test.txt'))\n",
    "x_train=[]\n",
    "y_train=[]\n",
    "x_test=[]\n",
    "y_test=[]\n",
    "for i in range(len(data)):\n",
    "    x_train.append([data[i][0],data[i][1],data[i][2],data[i][3]])\n",
    "    y_train.append(data[i][4])\n",
    "x_train=np.array(x_train)\n",
    "y_train=np.array(y_train)\n",
    "for i in range(len(test)):\n",
    "    x_test.append([test[i][0],test[i][1],test[i][2],test[i][3]])\n",
    "    y_test.append(test[i][4])\n",
    "x_test=np.array(x_test)\n",
    "y_test=np.array(y_test)\n",
    "\n",
    "\n",
    "'''add x0=1'''\n",
    "x_train = np.concatenate((np.ones((len(x_train),1)),x_train),axis=1)\n",
    "x_test = np.concatenate((np.ones((len(x_test),1)),x_test),axis=1)\n",
    "error=0\n",
    "for i in range(1):\n",
    "    #x_train,y_train = shuffle(x_train,y_train,t)\n",
    "    w=Pocket(x_train,y_train)\n",
    "    error += testerror(w,x_test,y_test)\n",
    "    #error += testerror(w,x_train,y_train)\n",
    "print(error/1)"
   ]
  }
 ],
 "metadata": {
  "kernelspec": {
   "display_name": "Python 3",
   "language": "python",
   "name": "python3"
  },
  "language_info": {
   "codemirror_mode": {
    "name": "ipython",
    "version": 3
   },
   "file_extension": ".py",
   "mimetype": "text/x-python",
   "name": "python",
   "nbconvert_exporter": "python",
   "pygments_lexer": "ipython3",
   "version": "3.6.5"
  }
 },
 "nbformat": 4,
 "nbformat_minor": 2
}
