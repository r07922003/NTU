{
 "cells": [
  {
   "cell_type": "code",
   "execution_count": 3,
   "metadata": {
    "scrolled": false
   },
   "outputs": [
    {
     "name": "stdout",
     "output_type": "stream",
     "text": [
      "Average = 39.706039\n"
     ]
    },
    {
     "data": {
      "image/png": "[encoded data removed]",
      "text/plain": [
       "<Figure size 432x288 with 1 Axes>"
      ]
     },
     "metadata": {},
     "output_type": "display_data"
    }
   ],
   "source": [
    "import numpy as np\n",
    "import os\n",
    "import matplotlib.pyplot as plt\n",
    "'''\n",
    "Please initialize your algorithm with w = 0 and take sign(0) as −1. As a friendly reminder, remember to add x0 = 1 as always!\n",
    "'''\n",
    "def sign(s):\n",
    "    if s > 0:\n",
    "        return 1\n",
    "    else:\n",
    "        return -1\n",
    "\n",
    "def shuffle(X,Y,seed):\n",
    "    #依造種子隨機打亂資料順序\n",
    "    randomize = np.arange(len(X))\n",
    "    np.random.seed(seed)\n",
    "    np.random.shuffle(randomize)\n",
    "    return (X[randomize], Y[randomize])\n",
    "\n",
    "def PLA(x_train,y_train):\n",
    "    update=0\n",
    "    w=np.zeros(5)\n",
    "    while(1):\n",
    "        flag=0\n",
    "        for t in range(len(x_train)):\n",
    "            s=sign(w.dot(x_train[t]))\n",
    "            if s != int(y_train[t]):\n",
    "                w = w + int(y_train[t])*x_train[t]\n",
    "                update+=1\n",
    "                flag=1\n",
    "        if flag==0:\n",
    "            break\n",
    "    return update\n",
    "\n",
    "data = np.loadtxt(os.path.join('Data', 'hw1_7_train.txt'))\n",
    "x_train=[]\n",
    "y_train=[]\n",
    "for i in range(len(data)):\n",
    "    x_train.append([data[i][0],data[i][1],data[i][2],data[i][3]])\n",
    "    y_train.append(data[i][4])\n",
    "x_train=np.array(x_train)\n",
    "y_train=np.array(y_train)\n",
    "\n",
    "'''add x0=1'''\n",
    "x_train = np.concatenate((np.ones((len(x_train),1)),x_train),axis=1)\n",
    "count=[]\n",
    "average_count=0\n",
    "for i in range(1126):\n",
    "    x_train,y_train = shuffle(x_train,y_train,i)\n",
    "    update=PLA(x_train,y_train)\n",
    "    average_count  += update\n",
    "    count.append(update)\n",
    "print('Average = %f' %(average_count/1126))\n",
    "plt.hist(count,bins=39,facecolor='red', alpha=0.5)\n",
    "plt.xlabel('Update Time')\n",
    "plt.ylabel('Count')\n",
    "plt.title('Problem 7')\n",
    "plt.savefig('PLA average')\n",
    "plt.show()"
   ]
  }
 ],
 "metadata": {
  "kernelspec": {
   "display_name": "Python 3",
   "language": "python",
   "name": "python3"
  },
  "language_info": {
   "codemirror_mode": {
    "name": "ipython",
    "version": 3
   },
   "file_extension": ".py",
   "mimetype": "text/x-python",
   "name": "python",
   "nbconvert_exporter": "python",
   "pygments_lexer": "ipython3",
   "version": "3.6.5"
  }
 },
 "nbformat": 4,
 "nbformat_minor": 2
}
