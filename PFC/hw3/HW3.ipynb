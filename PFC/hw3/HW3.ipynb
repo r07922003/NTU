{
 "cells": [
  {
   "cell_type": "code",
   "execution_count": 314,
   "metadata": {
    "scrolled": true
   },
   "outputs": [
    {
     "name": "stdout",
     "output_type": "stream",
     "text": [
      "PRICE = 5.357424508897211\n",
      "STD = 0.07899717202851976\n"
     ]
    }
   ],
   "source": [
    "import numpy as np\n",
    "\"\"\"\n",
    "Inputs: \n",
    "(1) S (spot price)\n",
    "(2) X (strike price)\n",
    "(3) H (barrier price)\n",
    "(4) T (years)\n",
    "(5) r (risk-free interest rate)\n",
    "(6) s (volatility)\n",
    "(7) n (number of periods)\n",
    "(8) k (number of simulation paths) \n",
    "\n",
    "Output: \n",
    "(1)put price \n",
    "(2)standard error\n",
    "(3)delta\n",
    "\n",
    "#least-squares Monte Carlo program to price up-and-out American-style Asian puts\n",
    "\"\"\"\n",
    "S = 100\n",
    "X = 100\n",
    "H = 110\n",
    "T = 1\n",
    "r = 0.05\n",
    "s = 0.30\n",
    "n = 250\n",
    "k = 10000\n",
    "delT = T/n\n",
    "price = S\n",
    "\n",
    "if __name__ == '__main__':\n",
    "    Monte_price = np.zeros((k, n))\n",
    "    epsilon = np.random.normal(loc=0, scale=1,size=k)\n",
    "    Monte_price[:,0] = price * np.exp((r - (s**2)/2)*delT + s*(np.sqrt(delT))*epsilon)\n",
    "    for i in range(1,n):\n",
    "        epsilon = np.random.normal(loc=0, scale=1,size=k)\n",
    "        Monte_price[:,i] = Monte_price[:,i-1] * np.exp((r - (s**2)/2)*delT + s*(np.sqrt(delT))*epsilon)\n",
    "\n",
    "    #Asian求mean\n",
    "    mean_price = np.zeros((k, n))\n",
    "    for i in range(n):\n",
    "        mean_price[:,i] = np.mean(Monte_price[:,:i+1],axis=1)\n",
    "    \n",
    "    #判斷誤差\n",
    "    diff = np.maximum(0,X - mean_price)\n",
    "    original_mean_price = mean_price.copy()\n",
    "    mean_price[diff==0]=0\n",
    "    Cost = np.concatenate( (np.zeros((k,n-1)),(diff[:,-1]*np.exp(-r*delT)).reshape(-1,1) ),axis=1)\n",
    "    #求Hit\n",
    "    Hit = (original_mean_price>H)\n",
    "    Cost[:,-1] *= (~Hit[:,-1]).astype(int)\n",
    "    #print(Cost[:,-1])\n",
    "    cal_Hit = np.zeros(k)\n",
    "    \n",
    "    #iteration\n",
    "    for i in range(n-2, -1, -1):\n",
    "        #print(i)\n",
    "        degree = 5\n",
    "        reg1 = np.polyfit(mean_price[:, i], Cost[:, i + 1], degree)\n",
    "        regression = np.poly1d(reg1)\n",
    "        payoff = regression(mean_price[:,i])\n",
    "\n",
    "        #更新 payoff 及 difference\n",
    "        temp = (payoff > (diff[:,i]) ).astype(int)\n",
    "        Cost[:,i] = temp*Cost[:, i + 1]*np.exp(-r*delT)\n",
    "        temp = (payoff <= (diff[:,i])).astype(int)\n",
    "        Cost[:,i] += temp*diff[:,i]*np.exp(-r*delT)\n",
    "        #Hit為0就為0\n",
    "        cal_Hit += Hit[:,i]\n",
    "        Cost[cal_Hit>0,i]=0\n",
    "        #Cost[:,i] *= Hit[:,i]\n",
    "\n",
    "    PRICE = np.mean(Cost[:,0])\n",
    "    STD = np.std(Cost[:,0])/np.sqrt(k)\n",
    "    print(\"PRICE = {}\\nSTD = {}\".format(PRICE,STD))\n",
    "\n",
    "    #put price 5.4310\n",
    "    #standard error about 0.0085\n",
    "    #delta  -0.4122"
   ]
  },
  {
   "cell_type": "code",
   "execution_count": 287,
   "metadata": {},
   "outputs": [
    {
     "ename": "NameError",
     "evalue": "name 'cal_Hit' is not defined",
     "output_type": "error",
     "traceback": [
      "\u001b[1;31m---------------------------------------------------------------------------\u001b[0m",
      "\u001b[1;31mNameError\u001b[0m                                 Traceback (most recent call last)",
      "\u001b[1;32m<ipython-input-287-78ad0bf491a3>\u001b[0m in \u001b[0;36m<module>\u001b[1;34m()\u001b[0m\n\u001b[1;32m----> 1\u001b[1;33m \u001b[0mCost\u001b[0m\u001b[1;33m[\u001b[0m\u001b[1;33m:\u001b[0m\u001b[1;33m,\u001b[0m\u001b[0mi\u001b[0m\u001b[1;33m]\u001b[0m\u001b[1;33m[\u001b[0m\u001b[0mcal_Hit\u001b[0m\u001b[1;33m>\u001b[0m\u001b[1;36m0\u001b[0m\u001b[1;33m]\u001b[0m\u001b[1;33m=\u001b[0m\u001b[1;36m0\u001b[0m\u001b[1;33m\u001b[0m\u001b[0m\n\u001b[0m",
      "\u001b[1;31mNameError\u001b[0m: name 'cal_Hit' is not defined"
     ]
    }
   ],
   "source": []
  }
 ],
 "metadata": {
  "kernelspec": {
   "display_name": "Python 3",
   "language": "python",
   "name": "python3"
  },
  "language_info": {
   "codemirror_mode": {
    "name": "ipython",
    "version": 3
   },
   "file_extension": ".py",
   "mimetype": "text/x-python",
   "name": "python",
   "nbconvert_exporter": "python",
   "pygments_lexer": "ipython3",
   "version": "3.6.5"
  }
 },
 "nbformat": 4,
 "nbformat_minor": 2
}
