{
 "cells": [
  {
   "cell_type": "code",
   "execution_count": 1,
   "metadata": {},
   "outputs": [],
   "source": [
    "import numpy as np\n",
    "import time\n",
    "from sklearn.ensemble import RandomForestRegressor\n",
    "\n",
    "def open_file(file):\n",
    "    data = np.load(file)\n",
    "    for i in data:\n",
    "        temp = data[i]\n",
    "    return temp\n",
    "\n",
    "x_train = open_file('ml19spring/X_train.npz')\n",
    "x_test = open_file('ml19spring/X_test.npz')\n",
    "y_train = open_file('ml19spring/Y_train.npz')"
   ]
  },
  {
   "cell_type": "code",
   "execution_count": 2,
   "metadata": {},
   "outputs": [],
   "source": [
    "rfr = RandomForestRegressor()\n",
    "rfr.fit(x_train,y_train)\n",
    "important = rfr.feature_importances_\n",
    "new_xtrain = x_train[:,np.argsort(-1*important)[:5000]]\n",
    "new_xtest = x_test[:,np.argsort(-1*important)[:5000]]"
   ]
  },
  {
   "cell_type": "code",
   "execution_count": null,
   "metadata": {},
   "outputs": [
    {
     "name": "stdout",
     "output_type": "stream",
     "text": [
      "Feature--> 0\n"
     ]
    }
   ],
   "source": [
    "from xgboost import XGBClassifier\n",
    "XGB = XGBClassifier()\n",
    "for i in range(y_train.shape[1]):\n",
    "    print(\"Feature--> %d\" %i)\n",
    "    if i==0:\n",
    "        XGB.fit(new_xtrain,y_train[:,i],early_stopping_rounds = 1000)\n",
    "        y_test = np.reshape(XGB.predict(new_xtest),(-1,1))\n",
    "    else:\n",
    "        XGB.fit(new_xtrain,y_train[:,i],early_stopping_rounds = 1000)\n",
    "        test = np.reshape(ABR.predict(new_xtest),(-1,1))\n",
    "        y_test = np.concatenate((y_test,test),axis=1)"
   ]
  },
  {
   "cell_type": "code",
   "execution_count": 109,
   "metadata": {},
   "outputs": [
    {
     "name": "stdout",
     "output_type": "stream",
     "text": [
      "Feature--> 0\n",
      "Feature--> 1\n",
      "Feature--> 2\n"
     ]
    }
   ],
   "source": [
    "from sklearn.ensemble import AdaBoostRegressor\n",
    "ABR = AdaBoostRegressor()\n",
    "\n",
    "for i in range(len(y_train[0])):\n",
    "    print(\"Feature--> %d\" %i)\n",
    "    if i==0:\n",
    "        ABR.fit(new_xtrain,y_train[:,i])\n",
    "        y_test = np.reshape(ABR.predict(new_xtest),(-1,1))\n",
    "    else:\n",
    "        ABR.fit(new_xtrain,y_train[:,i])\n",
    "        test = np.reshape(ABR.predict(new_xtest),(-1,1))\n",
    "        y_test = np.concatenate((y_test,test),axis=1)"
   ]
  },
  {
   "cell_type": "code",
   "execution_count": 120,
   "metadata": {},
   "outputs": [],
   "source": [
    "import csv\n",
    "\n",
    "output_name = str('submission') + '.csv'\n",
    "output = open(output_name,'w+')\n",
    "s = csv.writer(output,delimiter=',',lineterminator='\\n') #lineterminator='\\n' 加入此行可使寫入連續不會空一行 \n",
    "for i in y_test:\n",
    "    s.writerow(i)\n",
    "output.close()"
   ]
  }
 ],
 "metadata": {
  "kernelspec": {
   "display_name": "Python 3",
   "language": "python",
   "name": "python3"
  },
  "language_info": {
   "codemirror_mode": {
    "name": "ipython",
    "version": 3
   },
   "file_extension": ".py",
   "mimetype": "text/x-python",
   "name": "python",
   "nbconvert_exporter": "python",
   "pygments_lexer": "ipython3",
   "version": "3.6.5"
  }
 },
 "nbformat": 4,
 "nbformat_minor": 2
}
