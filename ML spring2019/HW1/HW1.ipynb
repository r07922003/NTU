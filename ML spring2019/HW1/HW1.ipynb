{
 "cells": [
  {
   "cell_type": "code",
   "execution_count": 4,
   "metadata": {},
   "outputs": [
    {
     "data": {
      "image/png": "[encoded data removed]",
      "text/plain": [
       "<Figure size 432x288 with 1 Axes>"
      ]
     },
     "metadata": {},
     "output_type": "display_data"
    },
    {
     "name": "stdout",
     "output_type": "stream",
     "text": [
      "[-2  4  4  6 10 10 10] [-2 -5 -1 -2 -7  1  1]\n"
     ]
    },
    {
     "data": {
      "image/png": "[encoded data removed]",
      "text/plain": [
       "<Figure size 432x288 with 1 Axes>"
      ]
     },
     "metadata": {},
     "output_type": "display_data"
    }
   ],
   "source": [
    "#第一題\n",
    "import numpy as np\n",
    "import matplotlib.pyplot  as  plt \n",
    "x = np.array([[1,0],[0,1],[0,-1],[-1,0],[0,2],[0,-2],[-2,0]])\n",
    "y = np.array([-1,-1,-1,1,1,1,1])\n",
    "\n",
    "x1 = x[y>0][:,0]\n",
    "y1 = x[y>0][:,1]\n",
    "x2 = x[y<0][:,0]\n",
    "y2 = x[y<0][:,1]\n",
    "plt.scatter(x1,y1)\n",
    "plt.scatter(x2,y2)\n",
    "\n",
    "y3 = np.arange(-2,2,0.01)\n",
    "x3 = np.array((2*(y3**2)-3)/4)\n",
    "plt.plot(x3,y3)\n",
    "plt.show()\n",
    "\n",
    "def transformed_to_z(x1,x2):\n",
    "    z1 = 2*(x2**2) - 4*x1 + 2\n",
    "    z2 = x1**2 - 2*x2 - 3\n",
    "    \n",
    "    return(z1,z2)\n",
    "\n",
    "z1,z2 = transformed_to_z(x[:][:,0],x[:][:,1])\n",
    "print(z1,z2)\n",
    "x1 = z1[y>0]\n",
    "y1 = z2[y>0]\n",
    "x2 = z1[y<0]\n",
    "y2 = z2[y<0]\n",
    "\n",
    "plt.scatter(x1,y1)\n",
    "plt.scatter(x2,y2)\n",
    "y = np.arange(-7,1,0.01)\n",
    "x = np.ones(len(y))*5\n",
    "\n",
    "plt.plot(x,y)\n",
    "plt.show()"
   ]
  },
  {
   "cell_type": "code",
   "execution_count": 5,
   "metadata": {},
   "outputs": [
    {
     "name": "stdout",
     "output_type": "stream",
     "text": [
      "[[ 0.  1.]\n",
      " [ 0. -1.]\n",
      " [-1.  0.]\n",
      " [ 0.  2.]\n",
      " [ 0. -2.]] [1 2 3 4 5]\n",
      "[0.59647182 0.81065085 0.8887034  0.20566488 0.31275439]\n"
     ]
    }
   ],
   "source": [
    "#第2題\n",
    "from sklearn import svm\n",
    "\n",
    "x = np.array([[1,0],[0,1],[0,-1],[-1,0],[0,2],[0,-2],[-2,0]])\n",
    "y = np.array([-1,-1,-1,1,1,1,1])\n",
    "\n",
    "clf = svm.SVC(kernel='poly',degree=2,coef0=1,gamma=1,C=1e10)\n",
    "clf.fit(x,y)\n",
    "print(clf.support_vectors_,clf.support_)\n",
    "print(y[clf.support_]*clf.dual_coef_[0])"
   ]
  },
  {
   "cell_type": "code",
   "execution_count": 6,
   "metadata": {},
   "outputs": [
    {
     "data": {
      "text/plain": [
       "-1.6661102048266958"
      ]
     },
     "execution_count": 6,
     "metadata": {},
     "output_type": "execute_result"
    }
   ],
   "source": [
    "#第3題\n",
    "def g(x):\n",
    "    r =np.sqrt(2)\n",
    "    return np.array([1,r*x[0],r*x[1],x[0]**2,x[0]*x[1],x[1]*x[0],x[1]**2])\n",
    "support = clf.support_\n",
    "coef = clf.dual_coef_[0]\n",
    "x4 = np.array([g(i) for i in x])\n",
    "\n",
    "s = support[2]\n",
    "b = y[s] - coef.dot(x4[support].dot(x4[s]))\n",
    "b"
   ]
  },
  {
   "cell_type": "code",
   "execution_count": null,
   "metadata": {},
   "outputs": [
    {
     "name": "stdout",
     "output_type": "stream",
     "text": [
      "C= -5\n",
      "ok\n",
      "C= -3\n",
      "ok\n",
      "C= -1\n",
      "ok\n",
      "C= 1\n",
      "ok\n",
      "C= 3\n"
     ]
    }
   ],
   "source": [
    "#第13題\n",
    "import numpy as np\n",
    "from sklearn import svm\n",
    "import matplotlib.pyplot  as  plt \n",
    "\n",
    "train = np.loadtxt('features.train.txt')\n",
    "test = np.loadtxt('features.test.txt')\n",
    "train_X = np.array(train[:,1:3])\n",
    "# ''2'' versus 'not 2' plot |w| versus  logC{-5,-3,-1,1,3}\n",
    "train_Y = np.array((train[:,0]==2))\n",
    "\n",
    "c = [-5,-3,-1,1,3]\n",
    "W = []\n",
    "\n",
    "for i in c:\n",
    "    print('C=',i)\n",
    "    clf = svm.SVC(kernel = \"linear\",C = 10**i)\n",
    "    clf.fit(train_X,train_Y)\n",
    "    w = clf.coef_[0]\n",
    "    W.append(np.sqrt(np.sum(w*w)))\n",
    "    print('ok')\n",
    "    \n",
    "plt.scatter(c,W)\n",
    "plt.xlabel('logC')\n",
    "plt.ylabel('|W|')\n",
    "plt.savefig(\"problem13.png\")\n",
    "plt.show()"
   ]
  },
  {
   "cell_type": "code",
   "execution_count": 40,
   "metadata": {},
   "outputs": [
    {
     "name": "stdout",
     "output_type": "stream",
     "text": [
      "c= -5\n",
      "Ok\n",
      "[False False False ... False False False]\n"
     ]
    },
    {
     "data": {
      "image/png": "[encoded data removed]",
      "text/plain": [
       "<Figure size 432x288 with 1 Axes>"
      ]
     },
     "metadata": {},
     "output_type": "display_data"
    }
   ],
   "source": [
    "#第14題\n",
    "import numpy as np\n",
    "from sklearn import svm\n",
    "import matplotlib.pyplot  as  plt \n",
    "\n",
    "train = np.loadtxt('features.train.txt')\n",
    "test = np.loadtxt('features.test.txt')\n",
    "train_X = train[:,1:3]\n",
    "train_Y = []\n",
    "# ''4'' versus 'not 4' logC{-5,-3,-1,1,3}\n",
    "train_Y = np.array((train[:,0]==4))\n",
    "        \n",
    "c = [-5,-3,-1,1,3]\n",
    "E_in = []\n",
    "\n",
    "for i in c:\n",
    "    clf = svm.SVC(kernel = \"poly\",C = 10**i,degree=2,coef0 = 1,gamma=1)\n",
    "    print(\"c=\",i)\n",
    "    clf.fit(train_X,train_Y)\n",
    "    print('Ok')\n",
    "    error = np.sum(clf.predict(train_X) !=train_Y)/len(train_X)\n",
    "    E_in.append(error)\n",
    "    \n",
    "plt.scatter(c,E_in)\n",
    "plt.xlabel('logC')\n",
    "plt.ylabel('E_in')\n",
    "plt.savefig(\"problem14_E_in.png\")\n",
    "plt.show()"
   ]
  },
  {
   "cell_type": "code",
   "execution_count": 13,
   "metadata": {},
   "outputs": [
    {
     "data": {
      "image/png": "[encoded data removed]",
      "text/plain": [
       "<Figure size 432x288 with 1 Axes>"
      ]
     },
     "metadata": {},
     "output_type": "display_data"
    }
   ],
   "source": [
    "#第15題\n",
    "import numpy as np\n",
    "from sklearn import svm\n",
    "import matplotlib.pyplot as plt \n",
    "\n",
    "train = np.loadtxt('features.train.txt')\n",
    "test = np.loadtxt('features.test.txt')\n",
    "train_X = train[:,1:3]\n",
    "train_Y = []\n",
    "# ''0'' versus 'not 0' logC{-2,-1,0,1,2}\n",
    "train_Y = np.array((train[:,0]==0))\n",
    "\n",
    "c = [-2,-1,0,1,2]\n",
    "distance = []\n",
    "\n",
    "for i in c:\n",
    "    clf = svm.SVC(kernel = 'rbf',gamma = 80,C = 10**i)\n",
    "    clf.fit(train_X,train_Y)\n",
    "    w = clf.dual_coef_[0].dot(clf.support_vectors_)\n",
    "    dis = 1/np.sum(w*w)\n",
    "    distance.append(dis)\n",
    "\n",
    "plt.scatter(c,distance)\n",
    "plt.xlabel('logC')\n",
    "plt.ylabel('distance')\n",
    "plt.savefig(\"problem15_distance.png\")\n",
    "plt.show()"
   ]
  },
  {
   "cell_type": "code",
   "execution_count": 12,
   "metadata": {},
   "outputs": [
    {
     "name": "stdout",
     "output_type": "stream",
     "text": [
      "0\n",
      "1\n",
      "2\n",
      "3\n",
      "4\n",
      "5\n",
      "6\n",
      "7\n",
      "8\n",
      "9\n",
      "10\n",
      "11\n",
      "12\n",
      "13\n",
      "14\n",
      "15\n",
      "16\n",
      "17\n",
      "18\n",
      "19\n",
      "20\n",
      "21\n",
      "22\n",
      "23\n",
      "24\n",
      "25\n",
      "26\n",
      "27\n",
      "28\n",
      "29\n",
      "30\n",
      "31\n",
      "32\n",
      "33\n",
      "34\n",
      "35\n",
      "36\n",
      "37\n",
      "38\n",
      "39\n",
      "40\n",
      "41\n",
      "42\n",
      "43\n",
      "44\n",
      "45\n",
      "46\n",
      "47\n",
      "48\n",
      "49\n",
      "50\n",
      "51\n",
      "52\n",
      "53\n",
      "54\n",
      "55\n",
      "56\n",
      "57\n",
      "58\n",
      "59\n",
      "60\n",
      "61\n",
      "62\n",
      "63\n",
      "64\n",
      "65\n",
      "66\n",
      "67\n",
      "68\n",
      "69\n",
      "70\n",
      "71\n",
      "72\n",
      "73\n",
      "74\n",
      "75\n",
      "76\n",
      "77\n",
      "78\n",
      "79\n",
      "80\n",
      "81\n",
      "82\n",
      "83\n",
      "84\n",
      "85\n",
      "86\n",
      "87\n",
      "88\n",
      "89\n",
      "90\n",
      "91\n",
      "92\n",
      "93\n",
      "94\n",
      "95\n",
      "96\n",
      "97\n",
      "98\n",
      "99\n",
      "[ 0.  0.  1. 35. 64.]\n"
     ]
    },
    {
     "data": {
      "image/png": "[encoded data removed]",
      "text/plain": [
       "<Figure size 432x288 with 1 Axes>"
      ]
     },
     "metadata": {},
     "output_type": "display_data"
    }
   ],
   "source": [
    "#第16題\n",
    "import numpy as np\n",
    "from sklearn import svm\n",
    "import matplotlib.pyplot as plt \n",
    "\n",
    "def shuffle(X,Y,seed):\n",
    "    #依造種子隨機打亂資料順序\n",
    "    randomize = np.arange(len(X))\n",
    "    np.random.seed(seed)\n",
    "    np.random.shuffle(randomize)\n",
    "    return (X[randomize], Y[randomize])\n",
    "\n",
    "\n",
    "train = np.loadtxt('features.train.txt')\n",
    "test = np.loadtxt('features.test.txt')\n",
    "train_X = train[:,1:3]\n",
    "train_Y = []\n",
    "\n",
    "# ''0'' versus 'not 0' C=0.1 log(gamma)={-2,-1,0,1,2}\n",
    "train_Y = np.array((train[:,0]==0))\n",
    "test_Y = np.array((test[:,0]==0))\n",
    "\n",
    "c = 0.1\n",
    "count = np.zeros(5)\n",
    "gamma = [-2,-1,0,1,2]\n",
    "\n",
    "for n in range(100):\n",
    "    print(n)\n",
    "    train_x,train_y = shuffle(train_X,train_Y,n+100)\n",
    "    val_x,val_y=train_x[0:1000],train_y[0:1000]\n",
    "    x,y = train_x[1000:-1],train_y[1000:-1]\n",
    "    E_val = []\n",
    "    \n",
    "    for i in gamma:\n",
    "        clf = svm.SVC(kernel='rbf',gamma=10**i,C = c)\n",
    "        clf.fit(train_X,train_Y)\n",
    "        e = np.sum(clf.predict(val_x) != val_y)/len(val_x)\n",
    "        E_val.append(e)\n",
    "    count[np.argmin(E_val)] += 1\n",
    "\n",
    "print(count)\n",
    "plt.bar(gamma,count)\n",
    "plt.xlabel('gamma')\n",
    "plt.ylabel('count')\n",
    "plt.savefig(\"problem16\")\n",
    "plt.show()"
   ]
  }
 ],
 "metadata": {
  "kernelspec": {
   "display_name": "Python 3",
   "language": "python",
   "name": "python3"
  },
  "language_info": {
   "codemirror_mode": {
    "name": "ipython",
    "version": 3
   },
   "file_extension": ".py",
   "mimetype": "text/x-python",
   "name": "python",
   "nbconvert_exporter": "python",
   "pygments_lexer": "ipython3",
   "version": "3.6.5"
  }
 },
 "nbformat": 4,
 "nbformat_minor": 2
}
